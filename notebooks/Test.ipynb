{
 "cells": [
  {
   "cell_type": "code",
   "execution_count": 1,
   "metadata": {},
   "outputs": [],
   "source": [
    "%load_ext autoreload\n",
    "%autoreload 2\n",
    "\n",
    "import os\n",
    "\n",
    "os.environ[\"LLMSCOPE_CACHE_DIR\"] = \"/vol/bitbucket/ad5518/llmscope_cache\""
   ]
  },
  {
   "cell_type": "markdown",
   "metadata": {},
   "source": [
    "# Pipeline Test"
   ]
  },
  {
   "cell_type": "code",
   "execution_count": 2,
   "metadata": {},
   "outputs": [],
   "source": [
    "from llmscope.datasets.managers import AciBenchDatasetManager\n",
    "\n",
    "aci_dataset_manager = AciBenchDatasetManager()"
   ]
  },
  {
   "cell_type": "code",
   "execution_count": 3,
   "metadata": {},
   "outputs": [],
   "source": [
    "def aci_task_preprocessor(dataset):\n",
    "    return dataset[\"train\"].select(range(10))"
   ]
  },
  {
   "cell_type": "code",
   "execution_count": 4,
   "metadata": {},
   "outputs": [
    {
     "data": {
      "application/vnd.jupyter.widget-view+json": {
       "model_id": "cb99db0bbe0942febf2ec2933f39c220",
       "version_major": 2,
       "version_minor": 0
      },
      "text/plain": [
       "Loading checkpoint shards:   0%|          | 0/4 [00:00<?, ?it/s]"
      ]
     },
     "metadata": {},
     "output_type": "display_data"
    },
    {
     "name": "stderr",
     "output_type": "stream",
     "text": [
      "Device set to use cuda:0\n"
     ]
    }
   ],
   "source": [
    "from llmscope.llms.managers import HuggingFaceLlmManager\n",
    "\n",
    "llama_llm_manager = HuggingFaceLlmManager(\n",
    "    model_name=\"meta-llama/Llama-3.1-8B-Instruct\", quantization=\"none\"\n",
    ")"
   ]
  },
  {
   "cell_type": "code",
   "execution_count": 5,
   "metadata": {},
   "outputs": [],
   "source": [
    "def aci_prompt_formatter(dialogue, **kwargs):\n",
    "    system_prompt = \"You are an expert clinical assistant specialising in the creation of medically accurate summaries from a dialogue between the doctor and patient.\"\n",
    "    user_prompt = f\"\"\"Your task is to generate a clinical note based on a conversation between a doctor and a patient. Use the following format for the clinical note:\n",
    "\n",
    "1. **CHIEF COMPLAINT**: [Brief description of the main reason for the visit]\n",
    "2. **HISTORY OF PRESENT ILLNESS**: [Summary of the patient's current health status and any changes since the last visit]\n",
    "3. **REVIEW OF SYSTEMS**: [List of symptoms reported by the patient]\n",
    "4. **PHYSICAL EXAMINATION**: [Findings from the physical examination]\n",
    "5. **RESULTS**: [Relevant test results]\n",
    "6. **ASSESSMENT AND PLAN**: [Doctor's assessment and plan for treatment or further testing]\n",
    "\n",
    "**Conversation:**\n",
    "{dialogue}\n",
    "\n",
    "**Note:**\n",
    "\"\"\"\n",
    "    return [\n",
    "        {\"role\": \"system\", \"content\": system_prompt},\n",
    "        {\"role\": \"user\", \"content\": user_prompt},\n",
    "    ]"
   ]
  },
  {
   "cell_type": "code",
   "execution_count": 6,
   "metadata": {},
   "outputs": [],
   "source": [
    "from llmscope.pipelines import SimplePipeline\n",
    "\n",
    "aci_pipeline = SimplePipeline(\n",
    "    dataset_manager=aci_dataset_manager,\n",
    "    task_preprocessor=aci_task_preprocessor,\n",
    "    prompt_formatter=aci_prompt_formatter,\n",
    "    llm_manager=llama_llm_manager,\n",
    ")"
   ]
  },
  {
   "cell_type": "code",
   "execution_count": 7,
   "metadata": {},
   "outputs": [
    {
     "data": {
      "application/vnd.jupyter.widget-view+json": {
       "model_id": "7194af37fb0d4b41ba9a303f2ab3d654",
       "version_major": 2,
       "version_minor": 0
      },
      "text/plain": [
       "Generating outputs:   0%|          | 0/10 [00:00<?, ? examples/s]"
      ]
     },
     "metadata": {},
     "output_type": "display_data"
    }
   ],
   "source": [
    "outputs = aci_pipeline.run()"
   ]
  },
  {
   "cell_type": "markdown",
   "metadata": {},
   "source": [
    "## Original Dialogue"
   ]
  },
  {
   "cell_type": "code",
   "execution_count": 8,
   "metadata": {},
   "outputs": [
    {
     "name": "stdout",
     "output_type": "stream",
     "text": [
      "[doctor] hi , martha . how are you ?\n",
      "[patient] i'm doing okay . how are you ?\n",
      "[doctor] i'm doing okay . so , i know the nurse told you about dax . i'd like to tell dax a little bit about you , okay ?\n",
      "[patient] okay .\n",
      "[doctor] martha is a 50-year-old female with a past medical history significant for congestive heart failure , depression and hypertension who presents for her annual exam . so , martha , it's been a year since i've seen you . how are you doing ?\n",
      "[patient] i'm doing well . i've been traveling a lot recently since things have , have gotten a bit lighter . and i got my , my vaccine , so i feel safer about traveling . i've been doing a lot of hiking . uh , went to washington last weekend to hike in northern cascades, like around the mount baker area .\n",
      "[doctor] nice . that's great . i'm glad to hear that you're staying active , you know . i , i just love this weather . i'm so happy the summer is over . i'm definitely more of a fall person .\n",
      "[patient] yes , fall foliage is the best .\n",
      "[doctor] yeah . um , so tell me , how are you doing with the congestive heart failure ? how are you doing watching your diet ? i know we've talked about watching a low sodium diet . are you doing okay with that ?\n",
      "[patient] i've been doing well with that . i resisted , as much , as i could , from the tater tots , you know , the soft pretzels , the salty foods that i , i love to eat . and i've been doing a really good job .\n",
      "[doctor] okay , all right . well , i'm glad to hear that . and you're taking your medication ?\n",
      "[patient] yes .\n",
      "[doctor] okay , good . and any symptoms like chest pains , shortness of breath , any swelling in your legs ?\n",
      "[patient] no , not that i've noticed .\n",
      "[doctor] okay , all right . and then in terms of your depression , i know that we tried to stay off of medication in the past because you're on medications for your other problems . how are you doing ? and i know that you enrolled into therapy . is that helping ? or-\n",
      "[patient] yeah , it's been helping a lot . i've been going every week , um , for the past year since my last annual exam . and that's been really helpful for me .\n",
      "[doctor] okay . so , no , no issues , no feelings of wanting to harm yourself or hurt others ?\n",
      "[patient] no , nothing like that .\n",
      "[doctor] okay , all right . and then in terms of your high blood pressure , i know that you and i have kind of battled in the past with you remembering to take some of your blood pressure medications . how are you doing with that ?\n",
      "[patient] i'm still forgetting to take my blood pressure medication . and i've noticed when work gets more stressful , my blood pressure goes up .\n",
      "[doctor] okay . and , and so how has work going for you ?\n",
      "[patient] it's been okay . it's been a lot of long hours , late nights . a lot of , um , you know , fiscal year end data that i've been having to pull . so , a lot of responsibility , which is good . but with the responsibility comes the stress .\n",
      "[doctor] yeah , okay , all right . i understand . um , all right . well , i know that you did a review of system sheet when you checked in with the nurse . i know that you were endorsing some nasal congestion from some of the fall pollen and allergies . any other symptoms , nausea or vomiting , abdominal pain , anything like that ?\n",
      "[patient] no , nothing like that .\n",
      "[doctor] no , okay , all right . well , i'm gon na go ahead and do a quick physical exam , okay ?\n",
      "[patient] okay .\n",
      "[doctor] hey , dragon , show me the blood pressure . so , yeah , looking at your blood pressure today here in the office , it is a little elevated . you know , it could just , you could just be nervous . uh , let's look at some of the past readings . hey , dragon , show me the blood pressure readings . hey , dragon , show me the blood pressure readings . here we go . uh , so they are running on the higher side . um , y- you know , i , i do think that , you know , i'd like to see you take your medication a little bit more , so that we can get that under control a little bit better , okay ?\n",
      "[patient] okay .\n",
      "[doctor] so , i'm just gon na check out your heart and your lungs . and you know , let you know what i find , okay ?\n",
      "[patient] okay .\n",
      "[doctor] okay . so , on your physical examination , you know , everything looks good . on your heart exam , i do appreciate a three out of six systolic ejection murmur , which i've heard in the past , okay ? and on your lower extremities , i do appreciate one plus pitting edema , so you do have a little bit of fluid in your legs , okay ?\n",
      "[patient] okay .\n",
      "[doctor] let's go ahead , i wan na look at some of your results , okay ? hey , dragon , show me the echocardiogram . so , this is the result of the echocardiogram that we did last year . it showed that you have that low-ish pumping function of your heart at about 45 % . and it also sh- shows some mitral regurgitation , that's that heart murmur that i heard , okay ?\n",
      "[doctor] um , hey , dragon , show me the lipid panel . so , looking at your lipid panel from last year , you know , everything , your cholesterol was like , a tiny bit high . but it was n't too , too bad , so i know you're trying to watch your diet . so , we'll repeat another one this year , okay ?\n",
      "[patient] okay .\n",
      "[doctor] um , so i wan na just go over a little bit about my assessment and my plan for you , okay ? so , for your first problem your congestive heart failure , um , i wan na continue you on your current medications . but i do wan na increase your lisinopril to 40 milligrams a day , just because your blood pressure's high . and you know , you are retaining a little bit of fluid . i also wan na start you on some lasix , you know , 20 milligrams a day . and have you continue to watch your , your diet , okay ?\n",
      "[patient] okay .\n",
      "[doctor] i also wan na repeat another echocardiogram , okay ?\n",
      "[patient] all right .\n",
      "[doctor] hey , dragon , order an echocardiogram . from a depression standpoint , it sounds like you're doing really well with that . so , i'm , i'm really happy for you . i'm , i'm glad to see that you're in therapy and you're doing really well . i do n't feel the need to start you on any medications this year , unless you feel differently .\n",
      "[patient] no , i feel the same way .\n",
      "[doctor] okay , all right . and then for your last problem your hypertension , you know , again i , i , i think it's out of control . but we'll see , i think , you know , i'd like to see you take the lisinopril as directed , okay ? uh , i want you to record your blood pressures within the patient , you know , take your blood pressure every day . record them to me for like , about a week , so i have to see if we have to add another agent , okay ? 'cause we need to get that under better control for your heart failure to be more successful , okay ?\n",
      "[patient] okay .\n",
      "[doctor] do you have any questions ? , and i forgot . for your annual exam , you're due for a mammogram , so we have to schedule for that , as well , okay ?\n",
      "[patient] okay .\n",
      "[doctor] okay . do you have any questions ?\n",
      "[patient] can i take all my pills at the same time ?\n",
      "[doctor] yeah .\n",
      "[patient] 'cause i've been trying to take them at different times of the day , 'cause i did n't know if it was bad to take them all at once or i should separate them . i do n't know .\n",
      "[doctor] yeah . you can certainly take them , you know , all at the same time , as long , as yeah , they're all one scale . you can take them all at the same time . just set an alarm-\n",
      "[patient] okay .\n",
      "[doctor] . some time during the day to take them , okay ?\n",
      "[patient] that might help me remember better .\n",
      "[doctor] all right . that sounds good . all right , well , it's good to see you .\n",
      "[patient] good seeing you too .\n",
      "[doctor] hey , dragon , finalize the note .\n"
     ]
    }
   ],
   "source": [
    "print(outputs[0][\"dialogue\"])"
   ]
  },
  {
   "cell_type": "markdown",
   "metadata": {},
   "source": [
    "## Reference Note"
   ]
  },
  {
   "cell_type": "code",
   "execution_count": 9,
   "metadata": {},
   "outputs": [
    {
     "name": "stdout",
     "output_type": "stream",
     "text": [
      "CHIEF COMPLAINT\n",
      "\n",
      "Annual exam.\n",
      "\n",
      "HISTORY OF PRESENT ILLNESS\n",
      "\n",
      "Martha Collins is a 50-year-old female with a past medical history significant for congestive heart failure, depression, and hypertension who presents for her annual exam. It has been a year since I last saw the patient.\n",
      "\n",
      "The patient has been traveling a lot recently since things have gotten a bit better. She reports that she got her COVID-19 vaccine so she feels safer about traveling. She has been doing a lot of hiking.\n",
      "\n",
      "She reports that she is staying active. She has continued watching her diet and she is doing well with that. The patient states that she is avoiding salty foods that she likes to eat. She has continued utilizing her medications. The patient denies any chest pain, shortness of breath, or swelling in her legs.\n",
      "\n",
      "Regarding her depression, she reports that she has been going to therapy every week for the past year. This has been really helpful for her. She denies suicidal or homicidal ideation.\n",
      "\n",
      "The patient reports that she is still forgetting to take her blood pressure medication. She has noticed that when work gets more stressful, her blood pressure goes up. She reports that work has been going okay, but it has been a lot of long hours lately.\n",
      "\n",
      "She endorses some nasal congestion from some of the fall allergies. She denies any other symptoms of nausea, vomiting, abdominal pain.\n",
      "\n",
      "REVIEW OF SYSTEMS\n",
      "\n",
      "• Ears, Nose, Mouth and Throat: Endorses nasal congestion from allergies.\n",
      "• Cardiovascular: Denies chest pain or dyspnea on exertion.\n",
      "• Respiratory: Denies shortness of breath.\n",
      "• Gastrointestinal: Denies abdominal pain, nausea, or vomiting.\n",
      "• Psychiatric: Endorses depression. Denies suicidal or homicidal ideations.\n",
      "\n",
      "PHYSICAL EXAMINATION\n",
      "\n",
      "• Cardiovascular: Grade 3/6 systolic ejection murmur.\n",
      "1+ pitting edema of the bilateral lower extremities.\n",
      "\n",
      "VITALS REVIEWED\n",
      "\n",
      "• Blood Pressure: Elevated.\n",
      "\n",
      "RESULTS\n",
      "\n",
      "Echocardiogram demonstrates decreased ejection fraction of 45%. Mitral regurgitation is present.\n",
      "\n",
      "Lipid panel: Elevated cholesterol.\n",
      "\n",
      "ASSESSMENT AND PLAN\n",
      "\n",
      "Martha Collins is a 50-year-old female with a past medical history significant for congestive heart failure, depression, and hypertension who presents for her annual exam.\n",
      "\n",
      "Congestive heart failure.\n",
      "• Medical Reasoning: She has been compliant with her medication and dietary modifications. Her previous year's echocardiogram demonstrated a reduced ejection fraction of 45%, as well as some mitral regurgitation. Her cholesterol levels were slightly elevated on her lipid panel from last year.\n",
      "• Additional Testing: We will order a repeat echocardiogram. We will also repeat a lipid panel this year.\n",
      "• Medical Treatment: She will continue with her current medications. We will increase her lisinopril to 40 mg daily and initiate Lasix 20 mg daily.\n",
      "• Patient Education and Counseling: I encouraged her to continue with dietary modifications.\n",
      "\n",
      "Depression.\n",
      "• Medical Reasoning: She is doing well with weekly therapy.\n",
      "\n",
      "Hypertension.\n",
      "• Medical Reasoning: She has been compliant with dietary modifications but has been inconsistent with the use of her medication. She attributes elevations in her blood pressure to increased stress.\n",
      "• Medical Treatment: We will increase her lisinopril to 40 mg daily as noted above.\n",
      "• Patient Education and Counseling: I encouraged the patient to take her lisinopril as directed. I advised her to monitor her blood pressures at home for the next week and report them to me.\n",
      "\n",
      "Healthcare maintenance.\n",
      "• Medical Reasoning: The patient is due for her routine mammogram.\n",
      "• Additional Testing: We will order a mammogram and have this scheduled for her.\n",
      "\n",
      "Patient Agreements: The patient understands and agrees with the recommended medical treatment plan.\n",
      "\n"
     ]
    }
   ],
   "source": [
    "print(outputs[0][\"note\"])"
   ]
  },
  {
   "cell_type": "markdown",
   "metadata": {},
   "source": [
    "## Generated Note"
   ]
  },
  {
   "cell_type": "code",
   "execution_count": 10,
   "metadata": {},
   "outputs": [
    {
     "name": "stdout",
     "output_type": "stream",
     "text": [
      "**CHIEF COMPLAINT**: 50-year-old female presents for annual exam with no specific complaints, but with a past medical history significant for congestive heart failure, depression, and hypertension.\n",
      "\n",
      "**HISTORY OF PRESENT ILLNESS**: The patient, Martha, has been doing well, with recent improvement in her mental health since starting therapy. She has been traveling and staying active through hiking. However, she has been experiencing nasal congestion due to fall pollen and allergies. She has been managing her congestive heart failure by watching her diet and taking her medications as prescribed, but has been forgetting to take her blood pressure medications. She reports no symptoms of chest pain, shortness of breath, or swelling in her legs. Her depression has been well-managed with therapy, and she does not experience any suicidal ideation or thoughts of harming others.\n",
      "\n",
      "**REVIEW OF SYSTEMS**: The patient reports nasal congestion due to fall pollen and allergies. She denies any other symptoms such as nausea, vomiting, abdominal pain, or chest pain. She reports that her blood pressure has been elevated, especially when she is under stress.\n",
      "\n",
      "**PHYSICAL EXAMINATION**: The patient's physical examination reveals a 3/6 systolic ejection murmur, which is consistent with her past medical history of congestive heart failure. She also has 1+ pitting edema in her lower extremities, indicating fluid retention.\n",
      "\n",
      "**RESULTS**: The patient's echocardiogram from last year showed a low pumping function of her heart at 45% and mitral regurgitation. Her lipid panel from last year showed slightly high cholesterol levels. The current blood pressure reading is elevated.\n",
      "\n",
      "**ASSESSMENT AND PLAN**:\n",
      "\n",
      "1. **Congestive Heart Failure**: Continue the patient's current medications, including increasing lisinopril to 40mg/day and starting lasix 20mg/day to manage her fluid retention. Recommend repeating an echocardiogram to assess her heart function.\n",
      "2. **Depression**: Continue therapy and monitor the patient's mental health. No medication changes are recommended at this time.\n",
      "3. **Hypertension**: Recommend increasing lisinopril to 40mg/day and monitoring the patient's blood pressure daily for a week. The patient will record her blood pressures and bring them to the office for review. If necessary, an additional medication may be added to manage her blood pressure.\n",
      "4. **Annual Exam**: Schedule a mammogram for the patient.\n",
      "5. **Medication Management**: The patient can take all her medications at the same time, as long as they are all on the same schedule. It is recommended that she set an alarm to remind her to take her medications at the same time each day.\n"
     ]
    }
   ],
   "source": [
    "print(outputs[0][\"output\"])"
   ]
  },
  {
   "cell_type": "code",
   "execution_count": null,
   "metadata": {},
   "outputs": [],
   "source": []
  }
 ],
 "metadata": {
  "kernelspec": {
   "display_name": ".venv",
   "language": "python",
   "name": "python3"
  },
  "language_info": {
   "codemirror_mode": {
    "name": "ipython",
    "version": 3
   },
   "file_extension": ".py",
   "mimetype": "text/x-python",
   "name": "python",
   "nbconvert_exporter": "python",
   "pygments_lexer": "ipython3",
   "version": "3.12.8"
  }
 },
 "nbformat": 4,
 "nbformat_minor": 2
}
